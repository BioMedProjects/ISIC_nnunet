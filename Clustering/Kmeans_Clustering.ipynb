{
 "cells": [
  {
   "cell_type": "code",
   "execution_count": 88,
   "metadata": {},
   "outputs": [],
   "source": [
    "import json\n",
    "import pandas as pd\n",
    "# for loading/processing the images  \n",
    "from keras.preprocessing.image import load_img \n",
    "from keras.preprocessing.image import img_to_array \n",
    "from keras.applications.vgg16 import preprocess_input \n",
    "\n",
    "# models \n",
    "from keras.applications.vgg16 import VGG16 \n",
    "from keras.models import Model\n",
    "\n",
    "# clustering and dimension reduction\n",
    "from sklearn.cluster import KMeans\n",
    "from sklearn.decomposition import PCA\n",
    "\n",
    "# for everything else\n",
    "import os\n",
    "import numpy as np\n",
    "import matplotlib.pyplot as plt\n",
    "from random import randint\n",
    "import pandas as pd\n",
    "import pickle\n",
    " \n",
    "\n",
    " \n",
    "\n"
   ]
  },
  {
   "cell_type": "code",
   "execution_count": 89,
   "metadata": {},
   "outputs": [],
   "source": [
    "# Opening JSON file\n",
    "f = pd.read_json('featureVectorKW.json')\n",
    "\n",
    "\n",
    "features_s = f['feature_vector']\n",
    "fnames_s = f['fname']\n",
    "\n",
    "\n",
    "features_v2 = []\n",
    "new_name = []"
   ]
  },
  {
   "cell_type": "code",
   "execution_count": 90,
   "metadata": {
    "scrolled": true
   },
   "outputs": [
    {
     "data": {
      "text/plain": [
       "['ISIC_0012576.nii.gz',\n",
       " 'ISIC_0012585.nii.gz',\n",
       " 'ISIC_0012623.nii.gz',\n",
       " 'ISIC_0012627.nii.gz',\n",
       " 'ISIC_0012346.nii.gz',\n",
       " 'ISIC_0012255.nii.gz',\n",
       " 'ISIC_0012643.nii.gz',\n",
       " 'ISIC_0012633.nii.gz',\n",
       " 'ISIC_0015351.nii.gz',\n",
       " 'ISIC_0015294.nii.gz',\n",
       " 'ISIC_0015370.nii.gz',\n",
       " 'ISIC_0015462.nii.gz',\n",
       " 'ISIC_0015492.nii.gz',\n",
       " 'ISIC_0015480.nii.gz',\n",
       " 'ISIC_0015552.nii.gz',\n",
       " 'ISIC_0015518.nii.gz',\n",
       " 'ISIC_0015590.nii.gz',\n",
       " 'ISIC_0015634.nii.gz',\n",
       " 'ISIC_0016714.nii.gz',\n",
       " 'ISIC_0016351.nii.gz',\n",
       " 'ISIC_0017341.nii.gz',\n",
       " 'ISIC_0016804.nii.gz',\n",
       " 'ISIC_0017398.nii.gz',\n",
       " 'ISIC_0017399.nii.gz',\n",
       " 'ISIC_0017474.nii.gz',\n",
       " 'ISIC_0017460.nii.gz',\n",
       " 'ISIC_0017755.nii.gz',\n",
       " 'ISIC_0017702.nii.gz',\n",
       " 'ISIC_0018111.nii.gz',\n",
       " 'ISIC_0018179.nii.gz',\n",
       " 'ISIC_0018375.nii.gz',\n",
       " 'ISIC_0018248.nii.gz',\n",
       " 'ISIC_0018521.nii.gz',\n",
       " 'ISIC_0018472.nii.gz',\n",
       " 'ISIC_0018556.nii.gz',\n",
       " 'ISIC_0018611.nii.gz',\n",
       " 'ISIC_0019049.nii.gz',\n",
       " 'ISIC_0018680.nii.gz',\n",
       " 'ISIC_0019334.nii.gz',\n",
       " 'ISIC_0019309.nii.gz',\n",
       " 'ISIC_0019723.nii.gz',\n",
       " 'ISIC_0019794.nii.gz',\n",
       " 'ISIC_0020233.nii.gz',\n",
       " 'ISIC_0019883.nii.gz',\n",
       " 'ISIC_0020861.nii.gz',\n",
       " 'ISIC_0020418.nii.gz',\n",
       " 'ISIC_0020893.nii.gz',\n",
       " 'ISIC_0020953.nii.gz',\n",
       " 'ISIC_0021037.nii.gz',\n",
       " 'ISIC_0020999.nii.gz',\n",
       " 'ISIC_0021152.nii.gz',\n",
       " 'ISIC_0021041.nii.gz',\n",
       " 'ISIC_0021158.nii.gz',\n",
       " 'ISIC_0021202.nii.gz',\n",
       " 'ISIC_0021448.nii.gz',\n",
       " 'ISIC_0021251.nii.gz',\n",
       " 'ISIC_0021504.nii.gz',\n",
       " 'ISIC_0021449.nii.gz',\n",
       " 'ISIC_0021714.nii.gz',\n",
       " 'ISIC_0021762.nii.gz',\n",
       " 'ISIC_0021904.nii.gz',\n",
       " 'ISIC_0021816.nii.gz',\n",
       " 'ISIC_0021990.nii.gz',\n",
       " 'ISIC_0021914.nii.gz',\n",
       " 'ISIC_0022029.nii.gz',\n",
       " 'ISIC_0022039.nii.gz',\n",
       " 'ISIC_0022192.nii.gz',\n",
       " 'ISIC_0022147.nii.gz',\n",
       " 'ISIC_0022657.nii.gz',\n",
       " 'ISIC_0022221.nii.gz',\n",
       " 'ISIC_0022738.nii.gz',\n",
       " 'ISIC_0023371.nii.gz',\n",
       " 'ISIC_0023628.nii.gz',\n",
       " 'ISIC_0023508.nii.gz',\n",
       " 'ISIC_0023755.nii.gz',\n",
       " 'ISIC_0023678.nii.gz',\n",
       " 'ISIC_0023831.nii.gz',\n",
       " 'ISIC_0023900.nii.gz',\n",
       " 'ISIC_0023924.nii.gz',\n",
       " 'ISIC_0023904.nii.gz',\n",
       " 'ISIC_0024135.nii.gz',\n",
       " 'ISIC_0023936.nii.gz',\n",
       " 'ISIC_0036073.nii.gz',\n",
       " 'ISIC_0036085.nii.gz',\n",
       " 'ISIC_0036101.nii.gz',\n",
       " 'ISIC_0036098.nii.gz',\n",
       " 'ISIC_0036147.nii.gz',\n",
       " 'ISIC_0036121.nii.gz',\n",
       " 'ISIC_0036174.nii.gz',\n",
       " 'ISIC_0036206.nii.gz',\n",
       " 'ISIC_0036237.nii.gz',\n",
       " 'ISIC_0036236.nii.gz',\n",
       " 'ISIC_0036247.nii.gz',\n",
       " 'ISIC_0036240.nii.gz',\n",
       " 'ISIC_0036281.nii.gz',\n",
       " 'ISIC_0036291.nii.gz',\n",
       " 'ISIC_0036321.nii.gz',\n",
       " 'ISIC_0036306.nii.gz',\n",
       " 'ISIC_0036333.nii.gz',\n",
       " 'ISIC_0036328.nii.gz']"
      ]
     },
     "execution_count": 90,
     "metadata": {},
     "output_type": "execute_result"
    }
   ],
   "source": [
    "for names in fnames_s:\n",
    "    name = names[-19:]\n",
    "    new_name.append(name)\n",
    "\n",
    "new_name"
   ]
  },
  {
   "cell_type": "code",
   "execution_count": 91,
   "metadata": {},
   "outputs": [
    {
     "data": {
      "text/plain": [
       "(100,)"
      ]
     },
     "execution_count": 91,
     "metadata": {},
     "output_type": "execute_result"
    }
   ],
   "source": [
    "fnames_v2 = np.array(new_name)\n",
    "fnames_v2.shape"
   ]
  },
  {
   "cell_type": "code",
   "execution_count": 92,
   "metadata": {},
   "outputs": [],
   "source": [
    "for feature in features_s:\n",
    "    new_feature = np.array(feature)\n",
    "    features_v2.append(new_feature)"
   ]
  },
  {
   "cell_type": "code",
   "execution_count": 93,
   "metadata": {},
   "outputs": [],
   "source": [
    "features_v2_array = np.array(features_v2)"
   ]
  },
  {
   "cell_type": "code",
   "execution_count": 94,
   "metadata": {
    "scrolled": true
   },
   "outputs": [
    {
     "data": {
      "text/plain": [
       "(100, 1, 480, 7, 6)"
      ]
     },
     "execution_count": 94,
     "metadata": {},
     "output_type": "execute_result"
    }
   ],
   "source": [
    "features_v2_array.shape"
   ]
  },
  {
   "cell_type": "code",
   "execution_count": 95,
   "metadata": {},
   "outputs": [],
   "source": [
    "new_arr = features_v2_array.reshape(100,-1)"
   ]
  },
  {
   "cell_type": "code",
   "execution_count": 96,
   "metadata": {},
   "outputs": [
    {
     "data": {
      "text/plain": [
       "(100, 20160)"
      ]
     },
     "execution_count": 96,
     "metadata": {},
     "output_type": "execute_result"
    }
   ],
   "source": [
    "new_arr.shape"
   ]
  },
  {
   "cell_type": "code",
   "execution_count": 97,
   "metadata": {},
   "outputs": [
    {
     "data": {
      "text/plain": [
       "KMeans(n_clusters=2)"
      ]
     },
     "execution_count": 97,
     "metadata": {},
     "output_type": "execute_result"
    }
   ],
   "source": [
    "Kmean = KMeans(n_clusters=2)\n",
    "Kmean.fit(new_arr)"
   ]
  },
  {
   "cell_type": "code",
   "execution_count": 98,
   "metadata": {},
   "outputs": [
    {
     "data": {
      "text/plain": [
       "array([0, 0, 0, 0, 1, 1, 0, 0, 1, 1, 1, 1, 1, 1, 1, 1, 1, 1, 0, 0, 0, 0,\n",
       "       0, 0, 0, 0, 0, 0, 0, 0, 0, 0, 0, 0, 0, 0, 0, 0, 0, 0, 0, 0, 0, 0,\n",
       "       0, 0, 0, 1, 1, 1, 1, 1, 1, 0, 1, 1, 1, 1, 1, 1, 1, 1, 1, 1, 1, 1,\n",
       "       1, 1, 1, 1, 1, 1, 1, 1, 1, 1, 1, 1, 1, 1, 1, 1, 1, 1, 1, 1, 1, 1,\n",
       "       1, 1, 1, 1, 1, 1, 1, 1, 1, 1, 1, 0])"
      ]
     },
     "execution_count": 98,
     "metadata": {},
     "output_type": "execute_result"
    }
   ],
   "source": [
    "Kmean.labels_"
   ]
  },
  {
   "cell_type": "code",
   "execution_count": 99,
   "metadata": {},
   "outputs": [],
   "source": [
    "groups = {}\n",
    "for file, cluster in zip(fnames_v2,Kmean.labels_):\n",
    "    if cluster not in groups.keys():\n",
    "        groups[cluster] = []\n",
    "        groups[cluster].append(file)\n",
    "    else:\n",
    "        groups[cluster].append(file)"
   ]
  },
  {
   "cell_type": "code",
   "execution_count": 100,
   "metadata": {},
   "outputs": [
    {
     "data": {
      "text/plain": [
       "63"
      ]
     },
     "execution_count": 100,
     "metadata": {},
     "output_type": "execute_result"
    }
   ],
   "source": [
    "len(groups[1])"
   ]
  },
  {
   "cell_type": "code",
   "execution_count": 101,
   "metadata": {},
   "outputs": [
    {
     "data": {
      "text/plain": [
       "37"
      ]
     },
     "execution_count": 101,
     "metadata": {},
     "output_type": "execute_result"
    }
   ],
   "source": [
    "len(groups[0])"
   ]
  },
  {
   "cell_type": "code",
   "execution_count": 103,
   "metadata": {},
   "outputs": [],
   "source": [
    "labels = Kmean.labels_"
   ]
  },
  {
   "cell_type": "code",
   "execution_count": 104,
   "metadata": {
    "scrolled": true
   },
   "outputs": [
    {
     "data": {
      "text/plain": [
       "['ISIC_0012346.nii.gz',\n",
       " 'ISIC_0012255.nii.gz',\n",
       " 'ISIC_0015351.nii.gz',\n",
       " 'ISIC_0015294.nii.gz',\n",
       " 'ISIC_0015370.nii.gz',\n",
       " 'ISIC_0015462.nii.gz',\n",
       " 'ISIC_0015492.nii.gz',\n",
       " 'ISIC_0015480.nii.gz',\n",
       " 'ISIC_0015552.nii.gz',\n",
       " 'ISIC_0015518.nii.gz',\n",
       " 'ISIC_0015590.nii.gz',\n",
       " 'ISIC_0015634.nii.gz',\n",
       " 'ISIC_0020953.nii.gz',\n",
       " 'ISIC_0021037.nii.gz',\n",
       " 'ISIC_0020999.nii.gz',\n",
       " 'ISIC_0021152.nii.gz',\n",
       " 'ISIC_0021041.nii.gz',\n",
       " 'ISIC_0021158.nii.gz',\n",
       " 'ISIC_0021448.nii.gz',\n",
       " 'ISIC_0021251.nii.gz',\n",
       " 'ISIC_0021504.nii.gz',\n",
       " 'ISIC_0021449.nii.gz',\n",
       " 'ISIC_0021714.nii.gz',\n",
       " 'ISIC_0021762.nii.gz',\n",
       " 'ISIC_0021904.nii.gz',\n",
       " 'ISIC_0021816.nii.gz',\n",
       " 'ISIC_0021990.nii.gz',\n",
       " 'ISIC_0021914.nii.gz',\n",
       " 'ISIC_0022029.nii.gz',\n",
       " 'ISIC_0022039.nii.gz',\n",
       " 'ISIC_0022192.nii.gz',\n",
       " 'ISIC_0022147.nii.gz',\n",
       " 'ISIC_0022657.nii.gz',\n",
       " 'ISIC_0022221.nii.gz',\n",
       " 'ISIC_0022738.nii.gz',\n",
       " 'ISIC_0023371.nii.gz',\n",
       " 'ISIC_0023628.nii.gz',\n",
       " 'ISIC_0023508.nii.gz',\n",
       " 'ISIC_0023755.nii.gz',\n",
       " 'ISIC_0023678.nii.gz',\n",
       " 'ISIC_0023831.nii.gz',\n",
       " 'ISIC_0023900.nii.gz',\n",
       " 'ISIC_0023924.nii.gz',\n",
       " 'ISIC_0023904.nii.gz',\n",
       " 'ISIC_0024135.nii.gz',\n",
       " 'ISIC_0023936.nii.gz',\n",
       " 'ISIC_0036073.nii.gz',\n",
       " 'ISIC_0036085.nii.gz',\n",
       " 'ISIC_0036101.nii.gz',\n",
       " 'ISIC_0036098.nii.gz',\n",
       " 'ISIC_0036147.nii.gz',\n",
       " 'ISIC_0036121.nii.gz',\n",
       " 'ISIC_0036174.nii.gz',\n",
       " 'ISIC_0036206.nii.gz',\n",
       " 'ISIC_0036237.nii.gz',\n",
       " 'ISIC_0036236.nii.gz',\n",
       " 'ISIC_0036247.nii.gz',\n",
       " 'ISIC_0036240.nii.gz',\n",
       " 'ISIC_0036281.nii.gz',\n",
       " 'ISIC_0036291.nii.gz',\n",
       " 'ISIC_0036321.nii.gz',\n",
       " 'ISIC_0036306.nii.gz',\n",
       " 'ISIC_0036333.nii.gz']"
      ]
     },
     "execution_count": 104,
     "metadata": {},
     "output_type": "execute_result"
    }
   ],
   "source": [
    "groups[1]"
   ]
  },
  {
   "cell_type": "code",
   "execution_count": 105,
   "metadata": {
    "scrolled": true
   },
   "outputs": [
    {
     "data": {
      "text/plain": [
       "['ISIC_0012576.nii.gz',\n",
       " 'ISIC_0012585.nii.gz',\n",
       " 'ISIC_0012623.nii.gz',\n",
       " 'ISIC_0012627.nii.gz',\n",
       " 'ISIC_0012643.nii.gz',\n",
       " 'ISIC_0012633.nii.gz',\n",
       " 'ISIC_0016714.nii.gz',\n",
       " 'ISIC_0016351.nii.gz',\n",
       " 'ISIC_0017341.nii.gz',\n",
       " 'ISIC_0016804.nii.gz',\n",
       " 'ISIC_0017398.nii.gz',\n",
       " 'ISIC_0017399.nii.gz',\n",
       " 'ISIC_0017474.nii.gz',\n",
       " 'ISIC_0017460.nii.gz',\n",
       " 'ISIC_0017755.nii.gz',\n",
       " 'ISIC_0017702.nii.gz',\n",
       " 'ISIC_0018111.nii.gz',\n",
       " 'ISIC_0018179.nii.gz',\n",
       " 'ISIC_0018375.nii.gz',\n",
       " 'ISIC_0018248.nii.gz',\n",
       " 'ISIC_0018521.nii.gz',\n",
       " 'ISIC_0018472.nii.gz',\n",
       " 'ISIC_0018556.nii.gz',\n",
       " 'ISIC_0018611.nii.gz',\n",
       " 'ISIC_0019049.nii.gz',\n",
       " 'ISIC_0018680.nii.gz',\n",
       " 'ISIC_0019334.nii.gz',\n",
       " 'ISIC_0019309.nii.gz',\n",
       " 'ISIC_0019723.nii.gz',\n",
       " 'ISIC_0019794.nii.gz',\n",
       " 'ISIC_0020233.nii.gz',\n",
       " 'ISIC_0019883.nii.gz',\n",
       " 'ISIC_0020861.nii.gz',\n",
       " 'ISIC_0020418.nii.gz',\n",
       " 'ISIC_0020893.nii.gz',\n",
       " 'ISIC_0021202.nii.gz',\n",
       " 'ISIC_0036328.nii.gz']"
      ]
     },
     "execution_count": 105,
     "metadata": {},
     "output_type": "execute_result"
    }
   ],
   "source": [
    "groups[0]"
   ]
  },
  {
   "cell_type": "code",
   "execution_count": null,
   "metadata": {},
   "outputs": [],
   "source": []
  },
  {
   "cell_type": "code",
   "execution_count": 106,
   "metadata": {},
   "outputs": [],
   "source": [
    "from sklearn.decomposition import PCA"
   ]
  },
  {
   "cell_type": "code",
   "execution_count": 107,
   "metadata": {},
   "outputs": [],
   "source": [
    "features_s\n",
    "pca = PCA(2)"
   ]
  },
  {
   "cell_type": "code",
   "execution_count": 110,
   "metadata": {},
   "outputs": [],
   "source": [
    "df = pca.fit_transform(new_arr)"
   ]
  },
  {
   "cell_type": "code",
   "execution_count": 111,
   "metadata": {},
   "outputs": [
    {
     "data": {
      "text/plain": [
       "(100, 2)"
      ]
     },
     "execution_count": 111,
     "metadata": {},
     "output_type": "execute_result"
    }
   ],
   "source": [
    "df.shape"
   ]
  },
  {
   "cell_type": "code",
   "execution_count": 112,
   "metadata": {},
   "outputs": [
    {
     "name": "stdout",
     "output_type": "stream",
     "text": [
      "[0 0 0 0 1 1 0 0 1 1 1 1 1 1 1 1 1 1 0 0 0 0 0 0 0 0 0 0 0 0 0 0 0 0 0 0 0\n",
      " 0 0 0 0 0 0 0 0 0 0 1 1 1 1 1 1 0 1 1 1 1 1 1 1 1 1 1 1 1 1 1 1 1 1 1 1 1\n",
      " 1 1 1 1 1 1 1 1 1 1 1 1 1 1 1 1 1 1 1 1 1 1 1 1 1 0]\n"
     ]
    }
   ],
   "source": [
    "#Import required module\n",
    "from sklearn.cluster import KMeans\n",
    " \n",
    "#Initialize the class object\n",
    "kmeans = KMeans(n_clusters= 2)\n",
    " \n",
    "#predict the labels of clusters.\n",
    "label = kmeans.fit_predict(df)\n",
    " \n",
    "print(label)"
   ]
  },
  {
   "cell_type": "code",
   "execution_count": 113,
   "metadata": {},
   "outputs": [
    {
     "data": {
      "image/png": "[encoded data removed]",
      "text/plain": [
       "<Figure size 432x288 with 1 Axes>"
      ]
     },
     "metadata": {
      "needs_background": "light"
     },
     "output_type": "display_data"
    }
   ],
   "source": [
    "import matplotlib.pyplot as plt\n",
    " \n",
    "#filter rows of original data\n",
    "filtered_label0 = df[label == 0]\n",
    " \n",
    "#plotting the results\n",
    "plt.scatter(filtered_label0[:,0] , filtered_label0[:,1])\n",
    "plt.show()"
   ]
  },
  {
   "cell_type": "code",
   "execution_count": 114,
   "metadata": {},
   "outputs": [
    {
     "data": {
      "image/png": "[encoded data removed]",
      "text/plain": [
       "<Figure size 432x288 with 1 Axes>"
      ]
     },
     "metadata": {
      "needs_background": "light"
     },
     "output_type": "display_data"
    }
   ],
   "source": [
    "#filter rows of original data\n",
    "filtered_label1 = df[label == 1]\n",
    " \n",
    "#plotting the results\n",
    "plt.scatter(filtered_label1[:,0] , filtered_label1[:,1])\n",
    "plt.show()"
   ]
  },
  {
   "cell_type": "code",
   "execution_count": 117,
   "metadata": {},
   "outputs": [
    {
     "data": {
      "image/png": "[encoded data removed]",
      "text/plain": [
       "<Figure size 432x288 with 1 Axes>"
      ]
     },
     "metadata": {
      "needs_background": "light"
     },
     "output_type": "display_data"
    }
   ],
   "source": [
    "#Getting the Centroids\n",
    "centroids = kmeans.cluster_centers_\n",
    "u_labels = np.unique(label)\n",
    " \n",
    "#plotting the results:\n",
    " \n",
    "for i in u_labels:\n",
    "    plt.scatter(df[label == i , 0] , df[label == i , 1] , label = i)\n",
    "plt.scatter(centroids[:,0] , centroids[:,1] , s = 80, color = 'k')\n",
    "plt.legend()\n",
    "plt.show()"
   ]
  },
  {
   "cell_type": "code",
   "execution_count": 120,
   "metadata": {},
   "outputs": [
    {
     "data": {
      "image/png": "[encoded data removed]",
      "text/plain": [
       "<Figure size 432x288 with 1 Axes>"
      ]
     },
     "metadata": {
      "needs_background": "light"
     },
     "output_type": "display_data"
    }
   ],
   "source": [
    "kmeans = KMeans(n_clusters= 3)\n",
    " \n",
    "#predict the labels of clusters.\n",
    "label = kmeans.fit_predict(df)\n",
    " \n",
    "centroids = kmeans.cluster_centers_\n",
    "u_labels = np.unique(label)\n",
    " \n",
    "#plotting the results:\n",
    "for i in u_labels:\n",
    "    plt.scatter(df[label == i , 0] , df[label == i , 1] , label = i)\n",
    "plt.scatter(centroids[:,0] , centroids[:,1] , s = 80, color = 'k')\n",
    "plt.legend()\n",
    "plt.show()"
   ]
  },
  {
   "cell_type": "code",
   "execution_count": 121,
   "metadata": {},
   "outputs": [
    {
     "data": {
      "image/png": "[encoded data removed]",
      "text/plain": [
       "<Figure size 432x288 with 1 Axes>"
      ]
     },
     "metadata": {
      "needs_background": "light"
     },
     "output_type": "display_data"
    }
   ],
   "source": [
    "from sklearn.cluster import MiniBatchKMeans\n",
    "MBKmeans = MiniBatchKMeans(n_clusters= 3)\n",
    " \n",
    "#predict the labels of clusters.\n",
    "label = MBKmeans.fit_predict(df)\n",
    " \n",
    "centroids = MBKmeans.cluster_centers_\n",
    "u_labels = np.unique(label)\n",
    " \n",
    "#plotting the results:\n",
    "for i in u_labels:\n",
    "    plt.scatter(df[label == i , 0] , df[label == i , 1] , label = i)\n",
    "plt.scatter(centroids[:,0] , centroids[:,1] , s = 80, color = 'k')\n",
    "plt.legend()\n",
    "plt.show()"
   ]
  },
  {
   "cell_type": "code",
   "execution_count": 139,
   "metadata": {},
   "outputs": [
    {
     "data": {
      "image/png": "[encoded data removed]",
      "text/plain": [
       "<Figure size 432x288 with 1 Axes>"
      ]
     },
     "metadata": {
      "needs_background": "light"
     },
     "output_type": "display_data"
    }
   ],
   "source": [
    "from sklearn.cluster import DBSCAN\n",
    "\n",
    "DBS = DBSCAN(eps= 0.8)\n",
    "#predict the labels of clusters.\n",
    "label = DBS.fit_predict(df)\n",
    "\n",
    "\n",
    "u_labels = np.unique(label)\n",
    " \n",
    "#plotting the results:\n",
    "for i in u_labels:\n",
    "    if i > -1:\n",
    "        plt.scatter(df[label == i , 0] , df[label == i , 1] , label = i)\n",
    "plt.legend()\n",
    "plt.show()"
   ]
  },
  {
   "cell_type": "markdown",
   "metadata": {},
   "source": [
    "## Po więcej zapraszam na:\n",
    "https://machinelearningmastery.com/clustering-algorithms-with-python/"
   ]
  },
  {
   "cell_type": "code",
   "execution_count": null,
   "metadata": {},
   "outputs": [],
   "source": []
  }
 ],
 "metadata": {
  "kernelspec": {
   "display_name": "Python 3",
   "language": "python",
   "name": "python3"
  },
  "language_info": {
   "codemirror_mode": {
    "name": "ipython",
    "version": 3
   },
   "file_extension": ".py",
   "mimetype": "text/x-python",
   "name": "python",
   "nbconvert_exporter": "python",
   "pygments_lexer": "ipython3",
   "version": "3.8.5"
  }
 },
 "nbformat": 4,
 "nbformat_minor": 4
}
